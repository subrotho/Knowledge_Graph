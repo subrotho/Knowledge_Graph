{
 "cells": [
  {
   "cell_type": "code",
   "execution_count": 1,
   "metadata": {},
   "outputs": [],
   "source": [
    "import rdflib\n",
    "from rdflib import URIRef\n",
    "from rdflib.graph import ConjunctiveGraph\n",
    "g = ConjunctiveGraph()"
   ]
  },
  {
   "cell_type": "code",
   "execution_count": 2,
   "metadata": {},
   "outputs": [],
   "source": [
    "import pandas as pd\n",
    "import json\n",
    "from SPARQLWrapper import SPARQLWrapper, XML, JSON\n",
    "from rdflib import Graph"
   ]
  },
  {
   "cell_type": "code",
   "execution_count": 3,
   "metadata": {},
   "outputs": [],
   "source": [
    "def get_sparql_dataframe(service, query):\n",
    "    #Helper function to convert SPARQL results into a pandas data frame\n",
    "    sparql = SPARQLWrapper(service)\n",
    "    sparql.setQuery(query)\n",
    "    sparql.setReturnFormat(JSON)\n",
    "    result = sparql.query()\n",
    "    \n",
    "    processed_results = json.load(result.response)\n",
    "    cols = processed_results['head']['vars']\n",
    "    \n",
    "    out =[]\n",
    "    for row in processed_results['results']['bindings']:\n",
    "        item =[]\n",
    "        for c in cols:\n",
    "            item.append(row.get(c, {}).get('value'))\n",
    "        out.append(item)\n",
    "    return pd.DataFrame(out, columns=cols)"
   ]
  },
  {
   "cell_type": "code",
   "execution_count": 4,
   "metadata": {},
   "outputs": [],
   "source": [
    "wds = \"http://dbpedia.org/sparql\""
   ]
  },
  {
   "cell_type": "code",
   "execution_count": 5,
   "metadata": {},
   "outputs": [],
   "source": [
    "rq =\"\"\" \n",
    "PREFIX  dbpedia-owl:  <http://dbpedia.org/ontology/>\n",
    "PREFIX dbpedia: <http://dbpedia.org/resource>\n",
    "PREFIX dbpprop: <http://dbpedia.org/property>\n",
    "PREFIX cat: <http://dbpedia.org/resource/Category:>\n",
    "PREFIX dbp: <http://dbpedia.org/property/owner>\n",
    "\n",
    "SELECT  DISTINCT ?company_name ?Key_Person ?product ?type_ck\n",
    "WHERE {\n",
    "   ?company dct:subject cat:Retail_companies_of_the_United_Kingdom.\n",
    "   ?company dct:subject ?subject.\n",
    "   ?company rdfs:label ?company_name.\n",
    "   ?company dbo:keyPerson ?keyPerson.\n",
    "   ?keyPerson rdfs:label ?Key_Person.\n",
    "   ?company dbo:product ?dboproduct.\n",
    "   ?dboproduct rdfs:label ?product.\n",
    "   ?company dbo:type ?type.\n",
    "   ?type rdfs:label ?type_ck.\n",
    "   FILTER ( lang(?company_name) = 'en' and lang(?Key_Person) = 'en' and lang(?product) = 'en' and lang(?type_ck) = 'en')\n",
    "}\n",
    "\n",
    "GROUP BY ?company\n",
    "\"\"\""
   ]
  },
  {
   "cell_type": "code",
   "execution_count": 6,
   "metadata": {},
   "outputs": [],
   "source": [
    "df = get_sparql_dataframe(wds,rq)"
   ]
  },
  {
   "cell_type": "code",
   "execution_count": 7,
   "metadata": {},
   "outputs": [
    {
     "data": {
      "text/plain": [
       "(137, 4)"
      ]
     },
     "execution_count": 7,
     "metadata": {},
     "output_type": "execute_result"
    }
   ],
   "source": [
    "df.shape"
   ]
  },
  {
   "cell_type": "code",
   "execution_count": 8,
   "metadata": {},
   "outputs": [
    {
     "data": {
      "text/html": [
       "<div>\n",
       "<style scoped>\n",
       "    .dataframe tbody tr th:only-of-type {\n",
       "        vertical-align: middle;\n",
       "    }\n",
       "\n",
       "    .dataframe tbody tr th {\n",
       "        vertical-align: top;\n",
       "    }\n",
       "\n",
       "    .dataframe thead th {\n",
       "        text-align: right;\n",
       "    }\n",
       "</style>\n",
       "<table border=\"1\" class=\"dataframe\">\n",
       "  <thead>\n",
       "    <tr style=\"text-align: right;\">\n",
       "      <th></th>\n",
       "      <th>company_name</th>\n",
       "      <th>Key_Person</th>\n",
       "      <th>product</th>\n",
       "      <th>type_ck</th>\n",
       "    </tr>\n",
       "  </thead>\n",
       "  <tbody>\n",
       "    <tr>\n",
       "      <th>0</th>\n",
       "      <td>Tesco</td>\n",
       "      <td>Dave Lewis (businessman)</td>\n",
       "      <td>Big-box store</td>\n",
       "      <td>Public limited company</td>\n",
       "    </tr>\n",
       "    <tr>\n",
       "      <th>1</th>\n",
       "      <td>JD Sports</td>\n",
       "      <td>Chairman</td>\n",
       "      <td>Sportswear (activewear)</td>\n",
       "      <td>Public limited company</td>\n",
       "    </tr>\n",
       "    <tr>\n",
       "      <th>2</th>\n",
       "      <td>Morrisons</td>\n",
       "      <td>Ken Morrison</td>\n",
       "      <td>Supermarket</td>\n",
       "      <td>Public limited company</td>\n",
       "    </tr>\n",
       "    <tr>\n",
       "      <th>3</th>\n",
       "      <td>Carphone Warehouse</td>\n",
       "      <td>Charles Dunstone</td>\n",
       "      <td>Service (economics)</td>\n",
       "      <td>Private limited company</td>\n",
       "    </tr>\n",
       "    <tr>\n",
       "      <th>4</th>\n",
       "      <td>Carphone Warehouse</td>\n",
       "      <td>Chief Executive</td>\n",
       "      <td>Landline phone</td>\n",
       "      <td>Private limited company</td>\n",
       "    </tr>\n",
       "  </tbody>\n",
       "</table>\n",
       "</div>"
      ],
      "text/plain": [
       "         company_name                Key_Person                  product  \\\n",
       "0               Tesco  Dave Lewis (businessman)            Big-box store   \n",
       "1           JD Sports                  Chairman  Sportswear (activewear)   \n",
       "2           Morrisons              Ken Morrison              Supermarket   \n",
       "3  Carphone Warehouse          Charles Dunstone      Service (economics)   \n",
       "4  Carphone Warehouse           Chief Executive           Landline phone   \n",
       "\n",
       "                   type_ck  \n",
       "0   Public limited company  \n",
       "1   Public limited company  \n",
       "2   Public limited company  \n",
       "3  Private limited company  \n",
       "4  Private limited company  "
      ]
     },
     "execution_count": 8,
     "metadata": {},
     "output_type": "execute_result"
    }
   ],
   "source": [
    "df.head(5)"
   ]
  },
  {
   "cell_type": "code",
   "execution_count": 10,
   "metadata": {},
   "outputs": [],
   "source": [
    "import pandas as pd\n",
    "import numpy as np\n",
    "import networkx as nx\n",
    "import matplotlib.pyplot as plt\n",
    "import sys\n",
    "from pyvis import network as net"
   ]
  },
  {
   "cell_type": "code",
   "execution_count": 25,
   "metadata": {},
   "outputs": [
    {
     "name": "stderr",
     "output_type": "stream",
     "text": [
      "C:\\ProgramData\\Anaconda3\\lib\\site-packages\\ipykernel_launcher.py:2: SettingWithCopyWarning: \n",
      "A value is trying to be set on a copy of a slice from a DataFrame.\n",
      "Try using .loc[row_indexer,col_indexer] = value instead\n",
      "\n",
      "See the caveats in the documentation: http://pandas.pydata.org/pandas-docs/stable/indexing.html#indexing-view-versus-copy\n",
      "  \n"
     ]
    }
   ],
   "source": [
    "df1 = df[['company_name', 'product']]\n",
    "df1['edge_label'] = \"product\""
   ]
  },
  {
   "cell_type": "code",
   "execution_count": 26,
   "metadata": {},
   "outputs": [
    {
     "name": "stderr",
     "output_type": "stream",
     "text": [
      "C:\\ProgramData\\Anaconda3\\lib\\site-packages\\ipykernel_launcher.py:2: SettingWithCopyWarning: \n",
      "A value is trying to be set on a copy of a slice from a DataFrame.\n",
      "Try using .loc[row_indexer,col_indexer] = value instead\n",
      "\n",
      "See the caveats in the documentation: http://pandas.pydata.org/pandas-docs/stable/indexing.html#indexing-view-versus-copy\n",
      "  \n"
     ]
    }
   ],
   "source": [
    "df2 = df[['Key_Person', 'company_name']]\n",
    "df2['edge_label'] = \"key_person\""
   ]
  },
  {
   "cell_type": "code",
   "execution_count": 27,
   "metadata": {},
   "outputs": [
    {
     "name": "stderr",
     "output_type": "stream",
     "text": [
      "C:\\ProgramData\\Anaconda3\\lib\\site-packages\\ipykernel_launcher.py:2: SettingWithCopyWarning: \n",
      "A value is trying to be set on a copy of a slice from a DataFrame.\n",
      "Try using .loc[row_indexer,col_indexer] = value instead\n",
      "\n",
      "See the caveats in the documentation: http://pandas.pydata.org/pandas-docs/stable/indexing.html#indexing-view-versus-copy\n",
      "  \n"
     ]
    }
   ],
   "source": [
    "df3 = df[['company_name', 'type_ck']]\n",
    "df3['edge_label'] = \"type\""
   ]
  },
  {
   "cell_type": "code",
   "execution_count": 28,
   "metadata": {},
   "outputs": [],
   "source": [
    "df1.columns = ['source', 'target', 'edge_label']\n",
    "df2.columns = ['source', 'target', 'edge_label']\n",
    "df3.columns = ['source', 'target', 'edge_label']"
   ]
  },
  {
   "cell_type": "code",
   "execution_count": 47,
   "metadata": {},
   "outputs": [],
   "source": [
    "df4 = df1.append(df2)\n",
    "df5 = df4.append(df3)\n",
    "\n",
    "df5.to_csv(\"store_data.csv\")"
   ]
  },
  {
   "cell_type": "code",
   "execution_count": 30,
   "metadata": {},
   "outputs": [],
   "source": [
    "# Build your graph. Note that we use the DiGraph function to create the graph!\n",
    "G=nx.from_pandas_edgelist(df5, 'source', 'target', create_using=nx.DiGraph() )"
   ]
  },
  {
   "cell_type": "code",
   "execution_count": 46,
   "metadata": {},
   "outputs": [
    {
     "data": {
      "text/html": [
       "\n",
       "        <iframe\n",
       "            width=\"500px\"\n",
       "            height=\"500px\"\n",
       "            src=\"example.html\"\n",
       "            frameborder=\"0\"\n",
       "            allowfullscreen\n",
       "        ></iframe>\n",
       "        "
      ],
      "text/plain": [
       "<IPython.lib.display.IFrame at 0x14e2232ce48>"
      ]
     },
     "execution_count": 46,
     "metadata": {},
     "output_type": "execute_result"
    },
    {
     "data": {
      "image/png": "[encoded data removed]",
      "text/plain": [
       "<matplotlib.figure.Figure at 0x14e20bbefd0>"
      ]
     },
     "metadata": {},
     "output_type": "display_data"
    }
   ],
   "source": [
    "# Make the graph\n",
    "g=net.Network(notebook=True)\n",
    "nx.draw_spectral(G, with_labels=True, node_size=500, alpha=0.5, arrows=True)\n",
    "g.from_nx(G)\n",
    "g.show(\"example.html\")"
   ]
  },
  {
   "cell_type": "code",
   "execution_count": 35,
   "metadata": {},
   "outputs": [
    {
     "data": {
      "text/html": [
       "\n",
       "<div class=\"bk-root\">\n",
       "    <div class=\"bk-plotdiv\" id=\"842c9fc0-1043-498c-bd49-d01c9a01e83a\"></div>\n",
       "</div>"
      ]
     },
     "metadata": {},
     "output_type": "display_data"
    },
    {
     "data": {
      "application/javascript": [
       "(function(root) {\n",
       "  function embed_document(root) {\n",
       "    \n",
       "  var docs_json = {\"6d14ff68-0e81-4ccb-8ee7-565617dc7b24\":{\"roots\":{\"references\":[{\"attributes\":{\"graph_layout\":{\"Anders Kristiansen (businessman)\":[0.274413831332571,-0.9400611198297526],\"Andy Harrison\":[0.20684853315379922,-0.9190388661498451],\"Anita Roddick\":[-0.1649095927853735,-0.8239214716608729],\"Asda\":[0.22532260233542378,-0.0632652394029726],\"B & M\":[0.024198175240265785,-0.09848188385677446],\"Bathroom\":[-0.23086639809317264,0.4526605148125684],\"Beanbags\":[-0.2657307599623385,0.44297239679921246],\"Bicycles\":[-0.4552200519243887,0.1934278587770645],\"Big-box store\":[0.6019357197003854,0.39767430658077935],\"Birthdays (retailer)\":[0.003268852298571061,-0.4329377384505576],\"Blinds\":[-0.2211369627054229,0.4552920819314684],\"BrightHouse (retailer)\":[-0.2510037080912839,-0.3172027343244839],\"CEO\":[0.45675561157631656,-0.8182591889739991],\"Car audio\":[-0.4738903804259292,0.16127758997612024],\"Carpet\":[-0.42652095457077177,0.3757938893058756],\"Carpetright\":[0.06141540380528733,-0.2189893594506702],\"Carpets\":[-0.505848108886455,0.22853446211817433],\"Carphone Warehouse\":[0.29548281395565457,-0.2691428221568523],\"Cash and carry (wholesale)\":[0.3722306427200846,0.5102129950128947],\"Chair (official)\":[0.4900975624536023,-0.8035100273169001],\"Chairman\":[0.19975327456115763,-0.9221874864020669],\"Charles Dunstone\":[0.0990054009751619,-0.9633796210878869],\"Chief Executive\":[0.0826273594772671,-0.9589588489281123],\"Chief Executive Officer\":[0.213129272093385,-0.9164151109362773],\"Chief executive officer\":[0.07301168065980444,-0.8942083238212868],\"Chief financial officer\":[0.23736970743930014,-0.7872684199090052],\"Child seats\":[-0.46978825045578326,0.1688734596809125],\"Clothing\":[0.4615691021953826,0.4900024582101324],\"Consumer electronics\":[-0.6765154625120939,0.26474840579124687],\"Consumer goods\":[-0.1647929685453806,0.4786252568807859],\"Cookware\":[-0.6382794069854892,0.12664032796559604],\"Cosmetics\":[0.13405475619622764,0.5434966316561461],\"Crafts\":[-0.3814541347977748,0.39750884286941895],\"Cushions\":[-0.4748169007111009,0.34699924239016283],\"Dave Lewis (Tesco)\":[0.1314914857734187,-0.9061178563243651],\"Dave Lewis (businessman)\":[-0.08720253935001226,-0.8597112651023021],\"David Potts (businessman)\":[-0.02282246082419743,-0.8769130035103829],\"David Tyler (businessman)\":[0.2687551174233357,-0.8983403195554133],\"Decor\":[-0.46419846192464786,0.35356849908980265],\"Department store\":[0.3786703003217996,0.5085057228981164],\"Dining\":[-0.47326474770586086,0.34791385354884957],\"Discount department store\":[0.10157341881774132,0.533920989721124],\"Discount store\":[0.0625380282400959,0.5298590343387524],\"Dishware\":[-0.6420635840097918,0.11898788648788781],\"Dunelm Group\":[-0.0693660242106132,-0.24904617245092298],\"Duvets\":[-0.2698784289704952,0.44171484659967325],\"Fabrics\":[-0.4340678945067827,0.3714856175597021],\"Fashion accessory\":[0.13308835587027895,0.5434728165483184],\"Financial services\":[-0.1719139008406473,0.538804706368869],\"Flowers\":[-0.2617589939139494,0.4441605173521323],\"Food\":[-0.6373576476459819,0.12843623237034685],\"Furniture\":[-0.40736149669285804,0.3863355886611355],\"General merchandise\":[-0.01952094149940723,0.6141574871977622],\"Global Navigation Satellite System\":[-0.2695940809026969,0.4068575000767095],\"Greeting card\":[-0.4822483418197385,0.09986696283258069],\"Grocery\":[-0.21101416655925423,0.582847722272643],\"Halfords\":[0.17106000969162144,-0.1629789287621936],\"Home Retail Group\":[0.1987919180190753,-0.1453641982949871],\"Household appliances\":[-0.6536888962111517,0.2800604786581272],\"Household goods\":[0.4146430217226514,0.5158183233784882],\"Hypermarket\":[0.23818482089407889,0.5354721063226515],\"Ian Grabiner\":[0.026194300117613544,-0.8857993079884399],\"JD Sports\":[0.2762029398771221,-0.203551367838192],\"Jill McDonald (businesswoman)\":[0.7058529005228437,-0.655648483406337],\"John Allan (businessman)\":[-0.11129842615268334,-0.850206280942932],\"John Hargreaves (businessman)\":[-0.24211471491182696,-0.7652892225608725],\"John Walden (businessman)\":[0.5098125612286037,-0.7980165829573039],\"Ken Morrison\":[-0.1361627914926759,-0.8383744151185346],\"Lakeland (company)\":[0.005553772090538588,-0.19829920942463108],\"Landline phone\":[0.58883447059807,0.3895821240884051],\"Lighting\":[-0.22349607829125817,0.454643804180366],\"Limited company\":[-0.35487275470845897,0.19293053648695718],\"Managing Director\":[0.5729924570102891,-0.648551587325977],\"Managing director\":[0.4502373648723251,-1.0],\"Matalan\":[0.12090603032905385,-0.1424741751125859],\"Mike Coupe\":[0.2692481514444497,-0.8982591407983326],\"Mirror\":[-0.3010427536087828,0.4306566154196378],\"Mobile phone\":[0.422745118319833,0.44016304080051605],\"Morrisons\":[0.16908647208700603,-0.1828756190309676],\"New Look (company)\":[0.3755029173062909,-0.22576827394533905],\"Pets\":[-0.34090288620725273,0.4153388569630757],\"Pictures\":[-0.22163016096265964,0.4552044520028898],\"Pillows\":[-0.47496754355344695,0.3468840776275749],\"Private company\":[-0.41970797994314696,0.38532182095818157],\"Private company limited by shares\":[0.2600646818283756,0.5372883717372017],\"Private limited company\":[0.41201481305859805,0.44299574953461657],\"Privately held company\":[0.5813727903593778,0.41385968784175703],\"Public company\":[-0.1976480377080151,0.45632334295290466],\"Public limited company\":[0.3674199204746218,0.5108226591740958],\"Publicly held company\":[0.6043673941367599,0.4582174265478522],\"Quilt\":[-0.461583830634388,0.35514793706413744],\"Richard Broadbent\":[0.13066560945629374,-0.9060756266583616],\"Ripspeed\":[-0.46116790499433025,0.18338057311916617],\"S.A. (corporation)\":[-0.1533050649334132,0.6005709499362625],\"Sainsbury's\":[0.1466800699277311,-0.18305735983987695],\"Sean Clarke\":[0.5338367365800146,-0.7152744964353579],\"Service (economics)\":[0.5923028891953928,0.38818053337821395],\"Shoe\":[0.3766744482878089,0.5139182213431588],\"Simon Arora\":[0.24926779753043588,-0.7833865775448425],\"Sir\":[0.24692960683562665,-0.784174647035862],\"Skin care\":[-0.14792237073413322,0.6147031867300524],\"Sportswear (activewear)\":[0.5992875502186681,0.4454841135997054],\"Stationery\":[-0.51908151817807,0.06389982604682008],\"Subsidiary\":[-0.03145987514985191,0.6100770739504103],\"Supercenter\":[0.0661555917212521,0.5311040821028946],\"Supermarket\":[0.2855500874754578,0.5296207618019834],\"Superstore\":[0.06656561668681436,0.53115514049413],\"Tesco\":[0.16869494966910548,-0.1826984840868567],\"Tesco International operations\":[0.1718207798851904,-0.18373182576154984],\"The Body Shop\":[-0.11251843316550887,-0.10534005291005963],\"Tile\":[-0.532294571132905,0.22021958056753427],\"Tools\":[-0.21063018075145717,0.45034407032473417],\"Topps Tiles\":[0.031364629251116376,-0.23099879294018164],\"Topshop\":[0.1765571093710089,-0.17766418750592536],\"Variety store\":[-0.23991255707629977,0.5723932497640557],\"Warehouse club\":[0.09976777663397522,0.5337962442466823]}},\"id\":\"5798bd6b-11e9-48b4-b499-7b435d0d3742\",\"type\":\"StaticLayoutProvider\"},{\"attributes\":{\"callback\":null,\"column_names\":[\"index\"],\"data\":{\"index\":[\"Tesco\",\"Big-box store\",\"JD Sports\",\"Sportswear (activewear)\",\"Morrisons\",\"Supermarket\",\"Carphone Warehouse\",\"Service (economics)\",\"Landline phone\",\"Matalan\",\"Clothing\",\"Topshop\",\"Shoe\",\"Tesco International operations\",\"Cash and carry (wholesale)\",\"Hypermarket\",\"Department store\",\"Halfords\",\"Global Navigation Satellite System\",\"Dunelm Group\",\"Duvets\",\"Beanbags\",\"Flowers\",\"Home Retail Group\",\"Consumer goods\",\"BrightHouse (retailer)\",\"Furniture\",\"Asda\",\"General merchandise\",\"Sainsbury's\",\"Supercenter\",\"Superstore\",\"Discount store\",\"Tools\",\"Pictures\",\"Blinds\",\"Lighting\",\"Bathroom\",\"The Body Shop\",\"Skin care\",\"Mirror\",\"Pets\",\"Crafts\",\"Fashion accessory\",\"Cosmetics\",\"B & M\",\"Variety store\",\"Dining\",\"Pillows\",\"Cushions\",\"Household goods\",\"Grocery\",\"Child seats\",\"Car audio\",\"Decor\",\"Quilt\",\"Birthdays (retailer)\",\"Stationery\",\"Lakeland (company)\",\"Dishware\",\"Warehouse club\",\"Discount department store\",\"Topps Tiles\",\"Tile\",\"Consumer electronics\",\"Cookware\",\"Food\",\"Mobile phone\",\"Carpetright\",\"Carpets\",\"Fabrics\",\"Greeting card\",\"Ripspeed\",\"Carpet\",\"Financial services\",\"New Look (company)\",\"Household appliances\",\"Bicycles\",\"Dave Lewis (businessman)\",\"Chairman\",\"Ken Morrison\",\"Charles Dunstone\",\"Chief Executive\",\"John Hargreaves (businessman)\",\"Ian Grabiner\",\"Chief executive officer\",\"Richard Broadbent\",\"Dave Lewis (Tesco)\",\"Jill McDonald (businesswoman)\",\"Andy Harrison\",\"Chair (official)\",\"Sean Clarke\",\"David Tyler (businessman)\",\"Mike Coupe\",\"Chief Executive Officer\",\"Anita Roddick\",\"Simon Arora\",\"Sir\",\"Managing director\",\"John Allan (businessman)\",\"Managing Director\",\"CEO\",\"Chief financial officer\",\"David Potts (businessman)\",\"John Walden (businessman)\",\"Anders Kristiansen (businessman)\",\"Public limited company\",\"Private limited company\",\"Privately held company\",\"Private company limited by shares\",\"Public company\",\"Private company\",\"Subsidiary\",\"S.A. (corporation)\",\"Limited company\",\"Publicly held company\"]}},\"id\":\"d8e99923-e12c-4e98-aa3c-7ad64559a862\",\"type\":\"ColumnDataSource\"},{\"attributes\":{\"plot\":null,\"text\":\"Knowledge Graph of UK Supermarket\"},\"id\":\"13d890ff-d0d0-4fa0-a0f2-bc9fc71f393b\",\"type\":\"Title\"},{\"attributes\":{\"callback\":null,\"end\":1.1,\"start\":-1.1},\"id\":\"52afd850-663c-4126-a587-50767c592860\",\"type\":\"Range1d\"},{\"attributes\":{\"data_source\":{\"id\":\"d8e99923-e12c-4e98-aa3c-7ad64559a862\",\"type\":\"ColumnDataSource\"},\"glyph\":{\"id\":\"ef9f4224-f4c2-460b-bf3a-6dd87631f035\",\"type\":\"Circle\"},\"hover_glyph\":null,\"muted_glyph\":null,\"view\":{\"id\":\"0dc6b26f-0d38-4fd1-b52e-889c97621bb7\",\"type\":\"CDSView\"}},\"id\":\"6e0e0bc0-063a-4bb7-a214-36ca3247b0a1\",\"type\":\"GlyphRenderer\"},{\"attributes\":{\"source\":{\"id\":\"d8e99923-e12c-4e98-aa3c-7ad64559a862\",\"type\":\"ColumnDataSource\"}},\"id\":\"0dc6b26f-0d38-4fd1-b52e-889c97621bb7\",\"type\":\"CDSView\"},{\"attributes\":{\"plot_height\":900,\"plot_width\":900,\"renderers\":[{\"id\":\"4b380ec0-a744-46fe-b8f4-734502789066\",\"type\":\"BoxAnnotation\"},{\"id\":\"26109871-d6d0-41a5-9f29-34f58a72040e\",\"type\":\"GraphRenderer\"}],\"title\":{\"id\":\"13d890ff-d0d0-4fa0-a0f2-bc9fc71f393b\",\"type\":\"Title\"},\"toolbar\":{\"id\":\"83e2c1a7-953d-4dad-9d25-eaf7a673dfdc\",\"type\":\"Toolbar\"},\"x_range\":{\"id\":\"6b4cb88f-85ad-4217-a0ed-bda22162d0c1\",\"type\":\"Range1d\"},\"x_scale\":{\"id\":\"d9f8f94a-c7d3-408f-9a6a-d679ea6a7170\",\"type\":\"LinearScale\"},\"y_range\":{\"id\":\"52afd850-663c-4126-a587-50767c592860\",\"type\":\"Range1d\"},\"y_scale\":{\"id\":\"17fb3296-2d41-4ec7-8093-e78bd1452a85\",\"type\":\"LinearScale\"}},\"id\":\"e10088d4-9ace-4c5e-a062-12064cc4b441\",\"type\":\"Plot\"},{\"attributes\":{\"callback\":null,\"tooltips\":[[\"store\",\"@index\"]]},\"id\":\"53e6bc15-6771-4394-9f65-511b8c49d9b8\",\"type\":\"HoverTool\"},{\"attributes\":{\"callback\":null,\"column_names\":[\"start\",\"end\"],\"data\":{\"end\":[\"Big-box store\",\"Supermarket\",\"Hypermarket\",\"Public limited company\",\"Sportswear (activewear)\",\"Clothing\",\"Public limited company\",\"Supermarket\",\"Public limited company\",\"Service (economics)\",\"Landline phone\",\"Mobile phone\",\"Private limited company\",\"Clothing\",\"Household goods\",\"Privately held company\",\"Shoe\",\"Clothing\",\"Fashion accessory\",\"Cosmetics\",\"Private company limited by shares\",\"Supermarket\",\"Cash and carry (wholesale)\",\"Hypermarket\",\"Department store\",\"Superstore\",\"Discount store\",\"Warehouse club\",\"Discount department store\",\"Supercenter\",\"Public limited company\",\"Global Navigation Satellite System\",\"Tools\",\"Child seats\",\"Car audio\",\"Ripspeed\",\"Bicycles\",\"Public company\",\"Duvets\",\"Beanbags\",\"Flowers\",\"Pictures\",\"Blinds\",\"Lighting\",\"Bathroom\",\"Mirror\",\"Pets\",\"Crafts\",\"Dining\",\"Pillows\",\"Cushions\",\"Decor\",\"Quilt\",\"Fabrics\",\"Furniture\",\"Carpet\",\"Public company\",\"Consumer goods\",\"Public company\",\"Furniture\",\"Consumer electronics\",\"Household appliances\",\"Private company\",\"General merchandise\",\"Financial services\",\"Subsidiary\",\"Hypermarket\",\"Supercenter\",\"Superstore\",\"Supermarket\",\"Public company\",\"Skin care\",\"Subsidiary\",\"Variety store\",\"Grocery\",\"S.A. (corporation)\",\"Stationery\",\"Greeting card\",\"Limited company\",\"Dishware\",\"Cookware\",\"Food\",\"Private company\",\"Tile\",\"Public company\",\"Carpets\",\"Public company\",\"Clothing\",\"Publicly held company\",\"Tesco\",\"JD Sports\",\"Dunelm Group\",\"Morrisons\",\"Carphone Warehouse\",\"Carphone Warehouse\",\"BrightHouse (retailer)\",\"Matalan\",\"Topshop\",\"Topshop\",\"JD Sports\",\"Tesco International operations\",\"Tesco International operations\",\"Halfords\",\"Dunelm Group\",\"Home Retail Group\",\"Carpetright\",\"Asda\",\"Sainsbury's\",\"Sainsbury's\",\"Dunelm Group\",\"The Body Shop\",\"B & M\",\"B & M\",\"Birthdays (retailer)\",\"Tesco\",\"Lakeland (company)\",\"Topps Tiles\",\"Home Retail Group\",\"B & M\",\"Morrisons\",\"Home Retail Group\",\"New Look (company)\"],\"start\":[\"Tesco\",\"Tesco\",\"Tesco\",\"Tesco\",\"JD Sports\",\"JD Sports\",\"JD Sports\",\"Morrisons\",\"Morrisons\",\"Carphone Warehouse\",\"Carphone Warehouse\",\"Carphone Warehouse\",\"Carphone Warehouse\",\"Matalan\",\"Matalan\",\"Matalan\",\"Topshop\",\"Topshop\",\"Topshop\",\"Topshop\",\"Topshop\",\"Tesco International operations\",\"Tesco International operations\",\"Tesco International operations\",\"Tesco International operations\",\"Tesco International operations\",\"Tesco International operations\",\"Tesco International operations\",\"Tesco International operations\",\"Tesco International operations\",\"Tesco International operations\",\"Halfords\",\"Halfords\",\"Halfords\",\"Halfords\",\"Halfords\",\"Halfords\",\"Halfords\",\"Dunelm Group\",\"Dunelm Group\",\"Dunelm Group\",\"Dunelm Group\",\"Dunelm Group\",\"Dunelm Group\",\"Dunelm Group\",\"Dunelm Group\",\"Dunelm Group\",\"Dunelm Group\",\"Dunelm Group\",\"Dunelm Group\",\"Dunelm Group\",\"Dunelm Group\",\"Dunelm Group\",\"Dunelm Group\",\"Dunelm Group\",\"Dunelm Group\",\"Dunelm Group\",\"Home Retail Group\",\"Home Retail Group\",\"BrightHouse (retailer)\",\"BrightHouse (retailer)\",\"BrightHouse (retailer)\",\"BrightHouse (retailer)\",\"Asda\",\"Asda\",\"Asda\",\"Sainsbury's\",\"Sainsbury's\",\"Sainsbury's\",\"Sainsbury's\",\"Sainsbury's\",\"The Body Shop\",\"The Body Shop\",\"B & M\",\"B & M\",\"B & M\",\"Birthdays (retailer)\",\"Birthdays (retailer)\",\"Birthdays (retailer)\",\"Lakeland (company)\",\"Lakeland (company)\",\"Lakeland (company)\",\"Lakeland (company)\",\"Topps Tiles\",\"Topps Tiles\",\"Carpetright\",\"Carpetright\",\"New Look (company)\",\"New Look (company)\",\"Dave Lewis (businessman)\",\"Chairman\",\"Chairman\",\"Ken Morrison\",\"Charles Dunstone\",\"Chief Executive\",\"Chief Executive\",\"John Hargreaves (businessman)\",\"Ian Grabiner\",\"Chief executive officer\",\"Chief executive officer\",\"Richard Broadbent\",\"Dave Lewis (Tesco)\",\"Jill McDonald (businesswoman)\",\"Andy Harrison\",\"Chair (official)\",\"Chair (official)\",\"Sean Clarke\",\"David Tyler (businessman)\",\"Mike Coupe\",\"Chief Executive Officer\",\"Anita Roddick\",\"Simon Arora\",\"Sir\",\"Managing director\",\"John Allan (businessman)\",\"Managing Director\",\"CEO\",\"CEO\",\"Chief financial officer\",\"David Potts (businessman)\",\"John Walden (businessman)\",\"Anders Kristiansen (businessman)\"]}},\"id\":\"975d401b-7f76-40f0-a8d6-fe502562feeb\",\"type\":\"ColumnDataSource\"},{\"attributes\":{\"data_source\":{\"id\":\"975d401b-7f76-40f0-a8d6-fe502562feeb\",\"type\":\"ColumnDataSource\"},\"glyph\":{\"id\":\"574896a1-e092-4197-ba4c-dc050d3923ee\",\"type\":\"MultiLine\"},\"hover_glyph\":null,\"muted_glyph\":null,\"view\":{\"id\":\"701b5e58-cef3-4129-8a77-c639dd369d6b\",\"type\":\"CDSView\"}},\"id\":\"a846dd45-5554-4953-bd2d-a0be2859ce34\",\"type\":\"GlyphRenderer\"},{\"attributes\":{\"source\":{\"id\":\"975d401b-7f76-40f0-a8d6-fe502562feeb\",\"type\":\"ColumnDataSource\"}},\"id\":\"701b5e58-cef3-4129-8a77-c639dd369d6b\",\"type\":\"CDSView\"},{\"attributes\":{\"callback\":null,\"end\":1.1,\"start\":-1.1},\"id\":\"6b4cb88f-85ad-4217-a0ed-bda22162d0c1\",\"type\":\"Range1d\"},{\"attributes\":{\"bottom_units\":\"screen\",\"fill_alpha\":{\"value\":0.5},\"fill_color\":{\"value\":\"lightgrey\"},\"left_units\":\"screen\",\"level\":\"overlay\",\"line_alpha\":{\"value\":1.0},\"line_color\":{\"value\":\"black\"},\"line_dash\":[4,4],\"line_width\":{\"value\":2},\"plot\":null,\"render_mode\":\"css\",\"right_units\":\"screen\",\"top_units\":\"screen\"},\"id\":\"4b380ec0-a744-46fe-b8f4-734502789066\",\"type\":\"BoxAnnotation\"},{\"attributes\":{},\"id\":\"d9f8f94a-c7d3-408f-9a6a-d679ea6a7170\",\"type\":\"LinearScale\"},{\"attributes\":{\"overlay\":{\"id\":\"4b380ec0-a744-46fe-b8f4-734502789066\",\"type\":\"BoxAnnotation\"}},\"id\":\"60c01139-b892-4806-a758-c32582ef697c\",\"type\":\"BoxZoomTool\"},{\"attributes\":{},\"id\":\"6a6228d8-9233-465d-8eb8-beb658aae702\",\"type\":\"NodesOnly\"},{\"attributes\":{},\"id\":\"17fb3296-2d41-4ec7-8093-e78bd1452a85\",\"type\":\"LinearScale\"},{\"attributes\":{\"line_color\":{\"value\":\"green\"}},\"id\":\"574896a1-e092-4197-ba4c-dc050d3923ee\",\"type\":\"MultiLine\"},{\"attributes\":{},\"id\":\"397bacd6-1924-4dac-a2c5-93ab2cb2f630\",\"type\":\"NodesOnly\"},{\"attributes\":{},\"id\":\"85ed4543-8e5c-429f-a0c0-37d1f5ee6359\",\"type\":\"ResetTool\"},{\"attributes\":{\"fill_color\":{\"value\":\"grey\"},\"size\":{\"units\":\"screen\",\"value\":50}},\"id\":\"ef9f4224-f4c2-460b-bf3a-6dd87631f035\",\"type\":\"Circle\"},{\"attributes\":{\"active_drag\":\"auto\",\"active_inspect\":\"auto\",\"active_scroll\":\"auto\",\"active_tap\":\"auto\",\"tools\":[{\"id\":\"53e6bc15-6771-4394-9f65-511b8c49d9b8\",\"type\":\"HoverTool\"},{\"id\":\"60c01139-b892-4806-a758-c32582ef697c\",\"type\":\"BoxZoomTool\"},{\"id\":\"85ed4543-8e5c-429f-a0c0-37d1f5ee6359\",\"type\":\"ResetTool\"}]},\"id\":\"83e2c1a7-953d-4dad-9d25-eaf7a673dfdc\",\"type\":\"Toolbar\"},{\"attributes\":{\"edge_renderer\":{\"id\":\"a846dd45-5554-4953-bd2d-a0be2859ce34\",\"type\":\"GlyphRenderer\"},\"inspection_policy\":{\"id\":\"397bacd6-1924-4dac-a2c5-93ab2cb2f630\",\"type\":\"NodesOnly\"},\"layout_provider\":{\"id\":\"5798bd6b-11e9-48b4-b499-7b435d0d3742\",\"type\":\"StaticLayoutProvider\"},\"node_renderer\":{\"id\":\"6e0e0bc0-063a-4bb7-a214-36ca3247b0a1\",\"type\":\"GlyphRenderer\"},\"selection_policy\":{\"id\":\"6a6228d8-9233-465d-8eb8-beb658aae702\",\"type\":\"NodesOnly\"}},\"id\":\"26109871-d6d0-41a5-9f29-34f58a72040e\",\"type\":\"GraphRenderer\"}],\"root_ids\":[\"e10088d4-9ace-4c5e-a062-12064cc4b441\"]},\"title\":\"Bokeh Application\",\"version\":\"0.12.13\"}};\n",
       "  var render_items = [{\"docid\":\"6d14ff68-0e81-4ccb-8ee7-565617dc7b24\",\"elementid\":\"842c9fc0-1043-498c-bd49-d01c9a01e83a\",\"modelid\":\"e10088d4-9ace-4c5e-a062-12064cc4b441\"}];\n",
       "  root.Bokeh.embed.embed_items_notebook(docs_json, render_items);\n",
       "\n",
       "  }\n",
       "  if (root.Bokeh !== undefined) {\n",
       "    embed_document(root);\n",
       "  } else {\n",
       "    var attempts = 0;\n",
       "    var timer = setInterval(function(root) {\n",
       "      if (root.Bokeh !== undefined) {\n",
       "        embed_document(root);\n",
       "        clearInterval(timer);\n",
       "      }\n",
       "      attempts++;\n",
       "      if (attempts > 100) {\n",
       "        console.log(\"Bokeh: ERROR: Unable to run BokehJS code because BokehJS library is missing\")\n",
       "        clearInterval(timer);\n",
       "      }\n",
       "    }, 10, root)\n",
       "  }\n",
       "})(window);"
      ],
      "application/vnd.bokehjs_exec.v0+json": ""
     },
     "metadata": {
      "application/vnd.bokehjs_exec.v0+json": {
       "id": "e10088d4-9ace-4c5e-a062-12064cc4b441"
      }
     },
     "output_type": "display_data"
    },
    {
     "data": {
      "image/png": "[encoded data removed]",
      "text/plain": [
       "<matplotlib.figure.Figure at 0x14e20bedc18>"
      ]
     },
     "metadata": {},
     "output_type": "display_data"
    }
   ],
   "source": [
    "import networkx as nx\n",
    "\n",
    "from bokeh.io import show, output_file\n",
    "from bokeh.models import Plot, Range1d, MultiLine, Circle, HoverTool, BoxZoomTool, ResetTool\n",
    "from bokeh.models.graphs import from_networkx\n",
    "from bokeh.palettes import Spectral4\n",
    "\n",
    "# Prepare Data\n",
    "#G = nx.karate_club_graph()\n",
    "\n",
    "# Show with Bokeh\n",
    "plot = Plot(plot_width=900, plot_height=900, x_range=Range1d(-1.1, 1.1), y_range=Range1d(-1.1, 1.1))\n",
    "plot.title.text = \"Knowledge Graph of UK Supermarket\"\n",
    "edge_labels=nx.draw_networkx_edge_labels(G,pos=nx.spring_layout(G))\n",
    "node_hover_tool = HoverTool(tooltips=[(\"store\", \"@index\")])\n",
    "plot.add_tools(node_hover_tool, BoxZoomTool(), ResetTool())\n",
    "\n",
    "graph_renderer = from_networkx(G, nx.kamada_kawai_layout, scale=1, center=(0, 0))\n",
    "\n",
    "graph_renderer.node_renderer.glyph = Circle(size=50, fill_color=\"grey\")\n",
    "graph_renderer.edge_renderer.glyph = MultiLine(line_color=\"green\", line_alpha=1, line_width=1)\n",
    "plot.renderers.append(graph_renderer)\n",
    "\n",
    "output_file(\"interactive_graphs.html\")\n",
    "show(plot)"
   ]
  },
  {
   "cell_type": "code",
   "execution_count": 34,
   "metadata": {},
   "outputs": [
    {
     "data": {
      "text/html": [
       "\n",
       "    <div class=\"bk-root\">\n",
       "        <a href=\"https://bokeh.pydata.org\" target=\"_blank\" class=\"bk-logo bk-logo-small bk-logo-notebook\"></a>\n",
       "        <span id=\"0ffbc8d2-2030-43f8-8722-0a25f31a775b\">Loading BokehJS ...</span>\n",
       "    </div>"
      ]
     },
     "metadata": {},
     "output_type": "display_data"
    },
    {
     "data": {
      "application/javascript": [
       "\n",
       "(function(root) {\n",
       "  function now() {\n",
       "    return new Date();\n",
       "  }\n",
       "\n",
       "  var force = true;\n",
       "\n",
       "  if (typeof (root._bokeh_onload_callbacks) === \"undefined\" || force === true) {\n",
       "    root._bokeh_onload_callbacks = [];\n",
       "    root._bokeh_is_loading = undefined;\n",
       "  }\n",
       "\n",
       "  var JS_MIME_TYPE = 'application/javascript';\n",
       "  var HTML_MIME_TYPE = 'text/html';\n",
       "  var EXEC_MIME_TYPE = 'application/vnd.bokehjs_exec.v0+json';\n",
       "  var CLASS_NAME = 'output_bokeh rendered_html';\n",
       "\n",
       "  /**\n",
       "   * Render data to the DOM node\n",
       "   */\n",
       "  function render(props, node) {\n",
       "    var script = document.createElement(\"script\");\n",
       "    node.appendChild(script);\n",
       "  }\n",
       "\n",
       "  /**\n",
       "   * Handle when an output is cleared or removed\n",
       "   */\n",
       "  function handleClearOutput(event, handle) {\n",
       "    var cell = handle.cell;\n",
       "\n",
       "    var id = cell.output_area._bokeh_element_id;\n",
       "    var server_id = cell.output_area._bokeh_server_id;\n",
       "    // Clean up Bokeh references\n",
       "    if (id !== undefined) {\n",
       "      Bokeh.index[id].model.document.clear();\n",
       "      delete Bokeh.index[id];\n",
       "    }\n",
       "\n",
       "    if (server_id !== undefined) {\n",
       "      // Clean up Bokeh references\n",
       "      var cmd = \"from bokeh.io.state import curstate; print(curstate().uuid_to_server['\" + server_id + \"'].get_sessions()[0].document.roots[0]._id)\";\n",
       "      cell.notebook.kernel.execute(cmd, {\n",
       "        iopub: {\n",
       "          output: function(msg) {\n",
       "            var element_id = msg.content.text.trim();\n",
       "            Bokeh.index[element_id].model.document.clear();\n",
       "            delete Bokeh.index[element_id];\n",
       "          }\n",
       "        }\n",
       "      });\n",
       "      // Destroy server and session\n",
       "      var cmd = \"import bokeh.io.notebook as ion; ion.destroy_server('\" + server_id + \"')\";\n",
       "      cell.notebook.kernel.execute(cmd);\n",
       "    }\n",
       "  }\n",
       "\n",
       "  /**\n",
       "   * Handle when a new output is added\n",
       "   */\n",
       "  function handleAddOutput(event, handle) {\n",
       "    var output_area = handle.output_area;\n",
       "    var output = handle.output;\n",
       "\n",
       "    // limit handleAddOutput to display_data with EXEC_MIME_TYPE content only\n",
       "    if ((output.output_type != \"display_data\") || (!output.data.hasOwnProperty(EXEC_MIME_TYPE))) {\n",
       "      return\n",
       "    }\n",
       "\n",
       "    var toinsert = output_area.element.find(\".\" + CLASS_NAME.split(' ')[0]);\n",
       "\n",
       "    if (output.metadata[EXEC_MIME_TYPE][\"id\"] !== undefined) {\n",
       "      toinsert[0].firstChild.textContent = output.data[JS_MIME_TYPE];\n",
       "      // store reference to embed id on output_area\n",
       "      output_area._bokeh_element_id = output.metadata[EXEC_MIME_TYPE][\"id\"];\n",
       "    }\n",
       "    if (output.metadata[EXEC_MIME_TYPE][\"server_id\"] !== undefined) {\n",
       "      var bk_div = document.createElement(\"div\");\n",
       "      bk_div.innerHTML = output.data[HTML_MIME_TYPE];\n",
       "      var script_attrs = bk_div.children[0].attributes;\n",
       "      for (var i = 0; i < script_attrs.length; i++) {\n",
       "        toinsert[0].firstChild.setAttribute(script_attrs[i].name, script_attrs[i].value);\n",
       "      }\n",
       "      // store reference to server id on output_area\n",
       "      output_area._bokeh_server_id = output.metadata[EXEC_MIME_TYPE][\"server_id\"];\n",
       "    }\n",
       "  }\n",
       "\n",
       "  function register_renderer(events, OutputArea) {\n",
       "\n",
       "    function append_mime(data, metadata, element) {\n",
       "      // create a DOM node to render to\n",
       "      var toinsert = this.create_output_subarea(\n",
       "        metadata,\n",
       "        CLASS_NAME,\n",
       "        EXEC_MIME_TYPE\n",
       "      );\n",
       "      this.keyboard_manager.register_events(toinsert);\n",
       "      // Render to node\n",
       "      var props = {data: data, metadata: metadata[EXEC_MIME_TYPE]};\n",
       "      render(props, toinsert[0]);\n",
       "      element.append(toinsert);\n",
       "      return toinsert\n",
       "    }\n",
       "\n",
       "    /* Handle when an output is cleared or removed */\n",
       "    events.on('clear_output.CodeCell', handleClearOutput);\n",
       "    events.on('delete.Cell', handleClearOutput);\n",
       "\n",
       "    /* Handle when a new output is added */\n",
       "    events.on('output_added.OutputArea', handleAddOutput);\n",
       "\n",
       "    /**\n",
       "     * Register the mime type and append_mime function with output_area\n",
       "     */\n",
       "    OutputArea.prototype.register_mime_type(EXEC_MIME_TYPE, append_mime, {\n",
       "      /* Is output safe? */\n",
       "      safe: true,\n",
       "      /* Index of renderer in `output_area.display_order` */\n",
       "      index: 0\n",
       "    });\n",
       "  }\n",
       "\n",
       "  // register the mime type if in Jupyter Notebook environment and previously unregistered\n",
       "  if (root.Jupyter !== undefined) {\n",
       "    var events = require('base/js/events');\n",
       "    var OutputArea = require('notebook/js/outputarea').OutputArea;\n",
       "\n",
       "    if (OutputArea.prototype.mime_types().indexOf(EXEC_MIME_TYPE) == -1) {\n",
       "      register_renderer(events, OutputArea);\n",
       "    }\n",
       "  }\n",
       "\n",
       "  \n",
       "  if (typeof (root._bokeh_timeout) === \"undefined\" || force === true) {\n",
       "    root._bokeh_timeout = Date.now() + 5000;\n",
       "    root._bokeh_failed_load = false;\n",
       "  }\n",
       "\n",
       "  var NB_LOAD_WARNING = {'data': {'text/html':\n",
       "     \"<div style='background-color: #fdd'>\\n\"+\n",
       "     \"<p>\\n\"+\n",
       "     \"BokehJS does not appear to have successfully loaded. If loading BokehJS from CDN, this \\n\"+\n",
       "     \"may be due to a slow or bad network connection. Possible fixes:\\n\"+\n",
       "     \"</p>\\n\"+\n",
       "     \"<ul>\\n\"+\n",
       "     \"<li>re-rerun `output_notebook()` to attempt to load from CDN again, or</li>\\n\"+\n",
       "     \"<li>use INLINE resources instead, as so:</li>\\n\"+\n",
       "     \"</ul>\\n\"+\n",
       "     \"<code>\\n\"+\n",
       "     \"from bokeh.resources import INLINE\\n\"+\n",
       "     \"output_notebook(resources=INLINE)\\n\"+\n",
       "     \"</code>\\n\"+\n",
       "     \"</div>\"}};\n",
       "\n",
       "  function display_loaded() {\n",
       "    var el = document.getElementById(\"0ffbc8d2-2030-43f8-8722-0a25f31a775b\");\n",
       "    if (el != null) {\n",
       "      el.textContent = \"BokehJS is loading...\";\n",
       "    }\n",
       "    if (root.Bokeh !== undefined) {\n",
       "      if (el != null) {\n",
       "        el.textContent = \"BokehJS \" + root.Bokeh.version + \" successfully loaded.\";\n",
       "      }\n",
       "    } else if (Date.now() < root._bokeh_timeout) {\n",
       "      setTimeout(display_loaded, 100)\n",
       "    }\n",
       "  }\n",
       "\n",
       "\n",
       "  function run_callbacks() {\n",
       "    try {\n",
       "      root._bokeh_onload_callbacks.forEach(function(callback) { callback() });\n",
       "    }\n",
       "    finally {\n",
       "      delete root._bokeh_onload_callbacks\n",
       "    }\n",
       "    console.info(\"Bokeh: all callbacks have finished\");\n",
       "  }\n",
       "\n",
       "  function load_libs(js_urls, callback) {\n",
       "    root._bokeh_onload_callbacks.push(callback);\n",
       "    if (root._bokeh_is_loading > 0) {\n",
       "      console.log(\"Bokeh: BokehJS is being loaded, scheduling callback at\", now());\n",
       "      return null;\n",
       "    }\n",
       "    if (js_urls == null || js_urls.length === 0) {\n",
       "      run_callbacks();\n",
       "      return null;\n",
       "    }\n",
       "    console.log(\"Bokeh: BokehJS not loaded, scheduling load and callback at\", now());\n",
       "    root._bokeh_is_loading = js_urls.length;\n",
       "    for (var i = 0; i < js_urls.length; i++) {\n",
       "      var url = js_urls[i];\n",
       "      var s = document.createElement('script');\n",
       "      s.src = url;\n",
       "      s.async = false;\n",
       "      s.onreadystatechange = s.onload = function() {\n",
       "        root._bokeh_is_loading--;\n",
       "        if (root._bokeh_is_loading === 0) {\n",
       "          console.log(\"Bokeh: all BokehJS libraries loaded\");\n",
       "          run_callbacks()\n",
       "        }\n",
       "      };\n",
       "      s.onerror = function() {\n",
       "        console.warn(\"failed to load library \" + url);\n",
       "      };\n",
       "      console.log(\"Bokeh: injecting script tag for BokehJS library: \", url);\n",
       "      document.getElementsByTagName(\"head\")[0].appendChild(s);\n",
       "    }\n",
       "  };var element = document.getElementById(\"0ffbc8d2-2030-43f8-8722-0a25f31a775b\");\n",
       "  if (element == null) {\n",
       "    console.log(\"Bokeh: ERROR: autoload.js configured with elementid '0ffbc8d2-2030-43f8-8722-0a25f31a775b' but no matching script tag was found. \")\n",
       "    return false;\n",
       "  }\n",
       "\n",
       "  var js_urls = [\"https://cdn.pydata.org/bokeh/release/bokeh-0.12.13.min.js\", \"https://cdn.pydata.org/bokeh/release/bokeh-widgets-0.12.13.min.js\", \"https://cdn.pydata.org/bokeh/release/bokeh-tables-0.12.13.min.js\", \"https://cdn.pydata.org/bokeh/release/bokeh-gl-0.12.13.min.js\"];\n",
       "\n",
       "  var inline_js = [\n",
       "    function(Bokeh) {\n",
       "      Bokeh.set_log_level(\"info\");\n",
       "    },\n",
       "    \n",
       "    function(Bokeh) {\n",
       "      \n",
       "    },\n",
       "    function(Bokeh) {\n",
       "      console.log(\"Bokeh: injecting CSS: https://cdn.pydata.org/bokeh/release/bokeh-0.12.13.min.css\");\n",
       "      Bokeh.embed.inject_css(\"https://cdn.pydata.org/bokeh/release/bokeh-0.12.13.min.css\");\n",
       "      console.log(\"Bokeh: injecting CSS: https://cdn.pydata.org/bokeh/release/bokeh-widgets-0.12.13.min.css\");\n",
       "      Bokeh.embed.inject_css(\"https://cdn.pydata.org/bokeh/release/bokeh-widgets-0.12.13.min.css\");\n",
       "      console.log(\"Bokeh: injecting CSS: https://cdn.pydata.org/bokeh/release/bokeh-tables-0.12.13.min.css\");\n",
       "      Bokeh.embed.inject_css(\"https://cdn.pydata.org/bokeh/release/bokeh-tables-0.12.13.min.css\");\n",
       "    }\n",
       "  ];\n",
       "\n",
       "  function run_inline_js() {\n",
       "    \n",
       "    if ((root.Bokeh !== undefined) || (force === true)) {\n",
       "      for (var i = 0; i < inline_js.length; i++) {\n",
       "        inline_js[i].call(root, root.Bokeh);\n",
       "      }if (force === true) {\n",
       "        display_loaded();\n",
       "      }} else if (Date.now() < root._bokeh_timeout) {\n",
       "      setTimeout(run_inline_js, 100);\n",
       "    } else if (!root._bokeh_failed_load) {\n",
       "      console.log(\"Bokeh: BokehJS failed to load within specified timeout.\");\n",
       "      root._bokeh_failed_load = true;\n",
       "    } else if (force !== true) {\n",
       "      var cell = $(document.getElementById(\"0ffbc8d2-2030-43f8-8722-0a25f31a775b\")).parents('.cell').data().cell;\n",
       "      cell.output_area.append_execute_result(NB_LOAD_WARNING)\n",
       "    }\n",
       "\n",
       "  }\n",
       "\n",
       "  if (root._bokeh_is_loading === 0) {\n",
       "    console.log(\"Bokeh: BokehJS loaded, going straight to plotting\");\n",
       "    run_inline_js();\n",
       "  } else {\n",
       "    load_libs(js_urls, function() {\n",
       "      console.log(\"Bokeh: BokehJS plotting callback run at\", now());\n",
       "      run_inline_js();\n",
       "    });\n",
       "  }\n",
       "}(window));"
      ],
      "application/vnd.bokehjs_load.v0+json": "\n(function(root) {\n  function now() {\n    return new Date();\n  }\n\n  var force = true;\n\n  if (typeof (root._bokeh_onload_callbacks) === \"undefined\" || force === true) {\n    root._bokeh_onload_callbacks = [];\n    root._bokeh_is_loading = undefined;\n  }\n\n  \n\n  \n  if (typeof (root._bokeh_timeout) === \"undefined\" || force === true) {\n    root._bokeh_timeout = Date.now() + 5000;\n    root._bokeh_failed_load = false;\n  }\n\n  var NB_LOAD_WARNING = {'data': {'text/html':\n     \"<div style='background-color: #fdd'>\\n\"+\n     \"<p>\\n\"+\n     \"BokehJS does not appear to have successfully loaded. If loading BokehJS from CDN, this \\n\"+\n     \"may be due to a slow or bad network connection. Possible fixes:\\n\"+\n     \"</p>\\n\"+\n     \"<ul>\\n\"+\n     \"<li>re-rerun `output_notebook()` to attempt to load from CDN again, or</li>\\n\"+\n     \"<li>use INLINE resources instead, as so:</li>\\n\"+\n     \"</ul>\\n\"+\n     \"<code>\\n\"+\n     \"from bokeh.resources import INLINE\\n\"+\n     \"output_notebook(resources=INLINE)\\n\"+\n     \"</code>\\n\"+\n     \"</div>\"}};\n\n  function display_loaded() {\n    var el = document.getElementById(\"0ffbc8d2-2030-43f8-8722-0a25f31a775b\");\n    if (el != null) {\n      el.textContent = \"BokehJS is loading...\";\n    }\n    if (root.Bokeh !== undefined) {\n      if (el != null) {\n        el.textContent = \"BokehJS \" + root.Bokeh.version + \" successfully loaded.\";\n      }\n    } else if (Date.now() < root._bokeh_timeout) {\n      setTimeout(display_loaded, 100)\n    }\n  }\n\n\n  function run_callbacks() {\n    try {\n      root._bokeh_onload_callbacks.forEach(function(callback) { callback() });\n    }\n    finally {\n      delete root._bokeh_onload_callbacks\n    }\n    console.info(\"Bokeh: all callbacks have finished\");\n  }\n\n  function load_libs(js_urls, callback) {\n    root._bokeh_onload_callbacks.push(callback);\n    if (root._bokeh_is_loading > 0) {\n      console.log(\"Bokeh: BokehJS is being loaded, scheduling callback at\", now());\n      return null;\n    }\n    if (js_urls == null || js_urls.length === 0) {\n      run_callbacks();\n      return null;\n    }\n    console.log(\"Bokeh: BokehJS not loaded, scheduling load and callback at\", now());\n    root._bokeh_is_loading = js_urls.length;\n    for (var i = 0; i < js_urls.length; i++) {\n      var url = js_urls[i];\n      var s = document.createElement('script');\n      s.src = url;\n      s.async = false;\n      s.onreadystatechange = s.onload = function() {\n        root._bokeh_is_loading--;\n        if (root._bokeh_is_loading === 0) {\n          console.log(\"Bokeh: all BokehJS libraries loaded\");\n          run_callbacks()\n        }\n      };\n      s.onerror = function() {\n        console.warn(\"failed to load library \" + url);\n      };\n      console.log(\"Bokeh: injecting script tag for BokehJS library: \", url);\n      document.getElementsByTagName(\"head\")[0].appendChild(s);\n    }\n  };var element = document.getElementById(\"0ffbc8d2-2030-43f8-8722-0a25f31a775b\");\n  if (element == null) {\n    console.log(\"Bokeh: ERROR: autoload.js configured with elementid '0ffbc8d2-2030-43f8-8722-0a25f31a775b' but no matching script tag was found. \")\n    return false;\n  }\n\n  var js_urls = [\"https://cdn.pydata.org/bokeh/release/bokeh-0.12.13.min.js\", \"https://cdn.pydata.org/bokeh/release/bokeh-widgets-0.12.13.min.js\", \"https://cdn.pydata.org/bokeh/release/bokeh-tables-0.12.13.min.js\", \"https://cdn.pydata.org/bokeh/release/bokeh-gl-0.12.13.min.js\"];\n\n  var inline_js = [\n    function(Bokeh) {\n      Bokeh.set_log_level(\"info\");\n    },\n    \n    function(Bokeh) {\n      \n    },\n    function(Bokeh) {\n      console.log(\"Bokeh: injecting CSS: https://cdn.pydata.org/bokeh/release/bokeh-0.12.13.min.css\");\n      Bokeh.embed.inject_css(\"https://cdn.pydata.org/bokeh/release/bokeh-0.12.13.min.css\");\n      console.log(\"Bokeh: injecting CSS: https://cdn.pydata.org/bokeh/release/bokeh-widgets-0.12.13.min.css\");\n      Bokeh.embed.inject_css(\"https://cdn.pydata.org/bokeh/release/bokeh-widgets-0.12.13.min.css\");\n      console.log(\"Bokeh: injecting CSS: https://cdn.pydata.org/bokeh/release/bokeh-tables-0.12.13.min.css\");\n      Bokeh.embed.inject_css(\"https://cdn.pydata.org/bokeh/release/bokeh-tables-0.12.13.min.css\");\n    }\n  ];\n\n  function run_inline_js() {\n    \n    if ((root.Bokeh !== undefined) || (force === true)) {\n      for (var i = 0; i < inline_js.length; i++) {\n        inline_js[i].call(root, root.Bokeh);\n      }if (force === true) {\n        display_loaded();\n      }} else if (Date.now() < root._bokeh_timeout) {\n      setTimeout(run_inline_js, 100);\n    } else if (!root._bokeh_failed_load) {\n      console.log(\"Bokeh: BokehJS failed to load within specified timeout.\");\n      root._bokeh_failed_load = true;\n    } else if (force !== true) {\n      var cell = $(document.getElementById(\"0ffbc8d2-2030-43f8-8722-0a25f31a775b\")).parents('.cell').data().cell;\n      cell.output_area.append_execute_result(NB_LOAD_WARNING)\n    }\n\n  }\n\n  if (root._bokeh_is_loading === 0) {\n    console.log(\"Bokeh: BokehJS loaded, going straight to plotting\");\n    run_inline_js();\n  } else {\n    load_libs(js_urls, function() {\n      console.log(\"Bokeh: BokehJS plotting callback run at\", now());\n      run_inline_js();\n    });\n  }\n}(window));"
     },
     "metadata": {},
     "output_type": "display_data"
    },
    {
     "data": {
      "image/png": "[encoded data removed]",
      "text/plain": [
       "<matplotlib.figure.Figure at 0x14e20ab0080>"
      ]
     },
     "metadata": {},
     "output_type": "display_data"
    }
   ],
   "source": [
    "from bokeh.io import show, output_notebook\n",
    "from bokeh.plotting import figure\n",
    "from bokeh.models import ColumnDataSource, LabelSet\n",
    "from bokeh.models.graphs import from_networkx\n",
    "output_notebook()\n",
    "\n",
    "plot = figure(title=\"Karate Club Graph\", tools=\"\", x_range=(-1.5, 1.5),\n",
    "          y_range=(-1.5, 1.5), toolbar_location=None)\n",
    "graph = from_networkx(G, nx.spring_layout)\n",
    "plot.renderers.append(graph)\n",
    "\n",
    "edge_labels=nx.draw_networkx_edge_labels(G,pos=nx.spring_layout(G))"
   ]
  },
  {
   "cell_type": "code",
   "execution_count": null,
   "metadata": {},
   "outputs": [],
   "source": []
  }
 ],
 "metadata": {
  "kernelspec": {
   "display_name": "Python 3",
   "language": "python",
   "name": "python3"
  },
  "language_info": {
   "codemirror_mode": {
    "name": "ipython",
    "version": 3
   },
   "file_extension": ".py",
   "mimetype": "text/x-python",
   "name": "python",
   "nbconvert_exporter": "python",
   "pygments_lexer": "ipython3",
   "version": "3.6.4"
  }
 },
 "nbformat": 4,
 "nbformat_minor": 2
}
